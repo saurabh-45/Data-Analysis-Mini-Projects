{
 "cells": [
  {
   "cell_type": "code",
   "execution_count": 10,
   "metadata": {},
   "outputs": [],
   "source": [
    "import pandas as pd"
   ]
  },
  {
   "cell_type": "code",
   "execution_count": 14,
   "metadata": {},
   "outputs": [
    {
     "data": {
      "text/html": [
       "<div>\n",
       "<style scoped>\n",
       "    .dataframe tbody tr th:only-of-type {\n",
       "        vertical-align: middle;\n",
       "    }\n",
       "\n",
       "    .dataframe tbody tr th {\n",
       "        vertical-align: top;\n",
       "    }\n",
       "\n",
       "    .dataframe thead th {\n",
       "        text-align: right;\n",
       "    }\n",
       "</style>\n",
       "<table border=\"1\" class=\"dataframe\">\n",
       "  <thead>\n",
       "    <tr style=\"text-align: right;\">\n",
       "      <th></th>\n",
       "      <th>state</th>\n",
       "      <th>drvr_fatl_col_bmiles</th>\n",
       "      <th>perc_fatl_speed</th>\n",
       "      <th>perc_fatl_alcohol</th>\n",
       "      <th>perc_fatl_1st_time</th>\n",
       "    </tr>\n",
       "  </thead>\n",
       "  <tbody>\n",
       "    <tr>\n",
       "      <th>0</th>\n",
       "      <td>Alabama</td>\n",
       "      <td>18.8</td>\n",
       "      <td>39</td>\n",
       "      <td>30</td>\n",
       "      <td>80</td>\n",
       "    </tr>\n",
       "    <tr>\n",
       "      <th>1</th>\n",
       "      <td>Alaska</td>\n",
       "      <td>18.1</td>\n",
       "      <td>41</td>\n",
       "      <td>25</td>\n",
       "      <td>94</td>\n",
       "    </tr>\n",
       "    <tr>\n",
       "      <th>2</th>\n",
       "      <td>Arizona</td>\n",
       "      <td>18.6</td>\n",
       "      <td>35</td>\n",
       "      <td>28</td>\n",
       "      <td>96</td>\n",
       "    </tr>\n",
       "    <tr>\n",
       "      <th>3</th>\n",
       "      <td>Arkansas</td>\n",
       "      <td>22.4</td>\n",
       "      <td>18</td>\n",
       "      <td>26</td>\n",
       "      <td>95</td>\n",
       "    </tr>\n",
       "    <tr>\n",
       "      <th>4</th>\n",
       "      <td>California</td>\n",
       "      <td>12.0</td>\n",
       "      <td>35</td>\n",
       "      <td>28</td>\n",
       "      <td>89</td>\n",
       "    </tr>\n",
       "  </tbody>\n",
       "</table>\n",
       "</div>"
      ],
      "text/plain": [
       "        state  drvr_fatl_col_bmiles  perc_fatl_speed  perc_fatl_alcohol  \\\n",
       "0     Alabama                  18.8               39                 30   \n",
       "1      Alaska                  18.1               41                 25   \n",
       "2     Arizona                  18.6               35                 28   \n",
       "3    Arkansas                  22.4               18                 26   \n",
       "4  California                  12.0               35                 28   \n",
       "\n",
       "   perc_fatl_1st_time  \n",
       "0                  80  \n",
       "1                  94  \n",
       "2                  96  \n",
       "3                  95  \n",
       "4                  89  "
      ]
     },
     "execution_count": 14,
     "metadata": {},
     "output_type": "execute_result"
    }
   ],
   "source": [
    "accident=pd.read_csv('road-accidents.csv',comment = '#', sep = '|')\n",
    "accident.head()"
   ]
  },
  {
   "cell_type": "markdown",
   "metadata": {},
   "source": [
    "##### COLUMN ABBREVIATIONS \n",
    "##### drvr_fatl_col_bmiles = Number of drivers involved in fatal collisions per billion miles (2011)',\n",
    "##### perc_fatl_speed = Percentage Of Drivers Involved In Fatal Collisions Who Were Speeding (2009)',\n",
    "##### perc_fatl_alcohol = Percentage Of Drivers Involved In Fatal Collisions Who Were Alcohol-Impaired (2011)',\n",
    "##### perc_fatl_1st_time = Percentage Of Drivers Involved In Fatal Collisions Who Had Not Been Involved In Any Previous Accidents (2011)'"
   ]
  },
  {
   "cell_type": "markdown",
   "metadata": {},
   "source": [
    "# Textual and a graphical summary of the data"
   ]
  },
  {
   "cell_type": "code",
   "execution_count": 16,
   "metadata": {},
   "outputs": [
    {
     "name": "stdout",
     "output_type": "stream",
     "text": [
      "<class 'pandas.core.frame.DataFrame'>\n",
      "RangeIndex: 51 entries, 0 to 50\n",
      "Data columns (total 5 columns):\n",
      " #   Column                Non-Null Count  Dtype  \n",
      "---  ------                --------------  -----  \n",
      " 0   state                 51 non-null     object \n",
      " 1   drvr_fatl_col_bmiles  51 non-null     float64\n",
      " 2   perc_fatl_speed       51 non-null     int64  \n",
      " 3   perc_fatl_alcohol     51 non-null     int64  \n",
      " 4   perc_fatl_1st_time    51 non-null     int64  \n",
      "dtypes: float64(1), int64(3), object(1)\n",
      "memory usage: 2.1+ KB\n"
     ]
    }
   ],
   "source": [
    "accident.info()"
   ]
  },
  {
   "cell_type": "code",
   "execution_count": 15,
   "metadata": {},
   "outputs": [
    {
     "data": {
      "text/html": [
       "<div>\n",
       "<style scoped>\n",
       "    .dataframe tbody tr th:only-of-type {\n",
       "        vertical-align: middle;\n",
       "    }\n",
       "\n",
       "    .dataframe tbody tr th {\n",
       "        vertical-align: top;\n",
       "    }\n",
       "\n",
       "    .dataframe thead th {\n",
       "        text-align: right;\n",
       "    }\n",
       "</style>\n",
       "<table border=\"1\" class=\"dataframe\">\n",
       "  <thead>\n",
       "    <tr style=\"text-align: right;\">\n",
       "      <th></th>\n",
       "      <th>drvr_fatl_col_bmiles</th>\n",
       "      <th>perc_fatl_speed</th>\n",
       "      <th>perc_fatl_alcohol</th>\n",
       "      <th>perc_fatl_1st_time</th>\n",
       "    </tr>\n",
       "  </thead>\n",
       "  <tbody>\n",
       "    <tr>\n",
       "      <th>count</th>\n",
       "      <td>51.000000</td>\n",
       "      <td>51.000000</td>\n",
       "      <td>51.000000</td>\n",
       "      <td>51.00000</td>\n",
       "    </tr>\n",
       "    <tr>\n",
       "      <th>mean</th>\n",
       "      <td>15.790196</td>\n",
       "      <td>31.725490</td>\n",
       "      <td>30.686275</td>\n",
       "      <td>88.72549</td>\n",
       "    </tr>\n",
       "    <tr>\n",
       "      <th>std</th>\n",
       "      <td>4.122002</td>\n",
       "      <td>9.633438</td>\n",
       "      <td>5.132213</td>\n",
       "      <td>6.96011</td>\n",
       "    </tr>\n",
       "    <tr>\n",
       "      <th>min</th>\n",
       "      <td>5.900000</td>\n",
       "      <td>13.000000</td>\n",
       "      <td>16.000000</td>\n",
       "      <td>76.00000</td>\n",
       "    </tr>\n",
       "    <tr>\n",
       "      <th>25%</th>\n",
       "      <td>12.750000</td>\n",
       "      <td>23.000000</td>\n",
       "      <td>28.000000</td>\n",
       "      <td>83.50000</td>\n",
       "    </tr>\n",
       "    <tr>\n",
       "      <th>50%</th>\n",
       "      <td>15.600000</td>\n",
       "      <td>34.000000</td>\n",
       "      <td>30.000000</td>\n",
       "      <td>88.00000</td>\n",
       "    </tr>\n",
       "    <tr>\n",
       "      <th>75%</th>\n",
       "      <td>18.500000</td>\n",
       "      <td>38.000000</td>\n",
       "      <td>33.000000</td>\n",
       "      <td>95.00000</td>\n",
       "    </tr>\n",
       "    <tr>\n",
       "      <th>max</th>\n",
       "      <td>23.900000</td>\n",
       "      <td>54.000000</td>\n",
       "      <td>44.000000</td>\n",
       "      <td>100.00000</td>\n",
       "    </tr>\n",
       "  </tbody>\n",
       "</table>\n",
       "</div>"
      ],
      "text/plain": [
       "       drvr_fatl_col_bmiles  perc_fatl_speed  perc_fatl_alcohol  \\\n",
       "count             51.000000        51.000000          51.000000   \n",
       "mean              15.790196        31.725490          30.686275   \n",
       "std                4.122002         9.633438           5.132213   \n",
       "min                5.900000        13.000000          16.000000   \n",
       "25%               12.750000        23.000000          28.000000   \n",
       "50%               15.600000        34.000000          30.000000   \n",
       "75%               18.500000        38.000000          33.000000   \n",
       "max               23.900000        54.000000          44.000000   \n",
       "\n",
       "       perc_fatl_1st_time  \n",
       "count            51.00000  \n",
       "mean             88.72549  \n",
       "std               6.96011  \n",
       "min              76.00000  \n",
       "25%              83.50000  \n",
       "50%              88.00000  \n",
       "75%              95.00000  \n",
       "max             100.00000  "
      ]
     },
     "execution_count": 15,
     "metadata": {},
     "output_type": "execute_result"
    }
   ],
   "source": [
    "accident.describe()"
   ]
  },
  {
   "cell_type": "code",
   "execution_count": 19,
   "metadata": {},
   "outputs": [
    {
     "data": {
      "text/plain": [
       "<seaborn.axisgrid.PairGrid at 0x2167d926748>"
      ]
     },
     "execution_count": 19,
     "metadata": {},
     "output_type": "execute_result"
    },
    {
     "data": {
      "image/png": "[encoded data removed]",
      "text/plain": [
       "<Figure size 720x720 with 20 Axes>"
      ]
     },
     "metadata": {
      "needs_background": "light"
     },
     "output_type": "display_data"
    }
   ],
   "source": [
    "import seaborn as sns\n",
    "data=accident\n",
    "sns.pairplot(accident)"
   ]
  },
  {
   "cell_type": "markdown",
   "metadata": {},
   "source": [
    "# The association of features and accidents"
   ]
  },
  {
   "cell_type": "code",
   "execution_count": 21,
   "metadata": {},
   "outputs": [
    {
     "data": {
      "text/html": [
       "<div>\n",
       "<style scoped>\n",
       "    .dataframe tbody tr th:only-of-type {\n",
       "        vertical-align: middle;\n",
       "    }\n",
       "\n",
       "    .dataframe tbody tr th {\n",
       "        vertical-align: top;\n",
       "    }\n",
       "\n",
       "    .dataframe thead th {\n",
       "        text-align: right;\n",
       "    }\n",
       "</style>\n",
       "<table border=\"1\" class=\"dataframe\">\n",
       "  <thead>\n",
       "    <tr style=\"text-align: right;\">\n",
       "      <th></th>\n",
       "      <th>drvr_fatl_col_bmiles</th>\n",
       "      <th>perc_fatl_speed</th>\n",
       "      <th>perc_fatl_alcohol</th>\n",
       "      <th>perc_fatl_1st_time</th>\n",
       "    </tr>\n",
       "  </thead>\n",
       "  <tbody>\n",
       "    <tr>\n",
       "      <th>drvr_fatl_col_bmiles</th>\n",
       "      <td>1.000000</td>\n",
       "      <td>-0.029080</td>\n",
       "      <td>0.199426</td>\n",
       "      <td>-0.017942</td>\n",
       "    </tr>\n",
       "    <tr>\n",
       "      <th>perc_fatl_speed</th>\n",
       "      <td>-0.029080</td>\n",
       "      <td>1.000000</td>\n",
       "      <td>0.286244</td>\n",
       "      <td>0.014066</td>\n",
       "    </tr>\n",
       "    <tr>\n",
       "      <th>perc_fatl_alcohol</th>\n",
       "      <td>0.199426</td>\n",
       "      <td>0.286244</td>\n",
       "      <td>1.000000</td>\n",
       "      <td>-0.245455</td>\n",
       "    </tr>\n",
       "    <tr>\n",
       "      <th>perc_fatl_1st_time</th>\n",
       "      <td>-0.017942</td>\n",
       "      <td>0.014066</td>\n",
       "      <td>-0.245455</td>\n",
       "      <td>1.000000</td>\n",
       "    </tr>\n",
       "  </tbody>\n",
       "</table>\n",
       "</div>"
      ],
      "text/plain": [
       "                      drvr_fatl_col_bmiles  perc_fatl_speed  \\\n",
       "drvr_fatl_col_bmiles              1.000000        -0.029080   \n",
       "perc_fatl_speed                  -0.029080         1.000000   \n",
       "perc_fatl_alcohol                 0.199426         0.286244   \n",
       "perc_fatl_1st_time               -0.017942         0.014066   \n",
       "\n",
       "                      perc_fatl_alcohol  perc_fatl_1st_time  \n",
       "drvr_fatl_col_bmiles           0.199426           -0.017942  \n",
       "perc_fatl_speed                0.286244            0.014066  \n",
       "perc_fatl_alcohol              1.000000           -0.245455  \n",
       "perc_fatl_1st_time            -0.245455            1.000000  "
      ]
     },
     "execution_count": 21,
     "metadata": {},
     "output_type": "execute_result"
    }
   ],
   "source": [
    "correlation=accident.corr()\n",
    "correlation"
   ]
  },
  {
   "cell_type": "markdown",
   "metadata": {},
   "source": [
    "# Fitting a multivariate linear regression Model"
   ]
  },
  {
   "cell_type": "code",
   "execution_count": 29,
   "metadata": {},
   "outputs": [
    {
     "data": {
      "text/plain": [
       "array([-0.04180041,  0.19086404,  0.02473301])"
      ]
     },
     "execution_count": 29,
     "metadata": {},
     "output_type": "execute_result"
    }
   ],
   "source": [
    "from sklearn import linear_model\n",
    "features=accident[[\"perc_fatl_speed\",\"perc_fatl_alcohol\",\"perc_fatl_1st_time\"]]\n",
    "target=accident[\"drvr_fatl_col_bmiles\"]\n",
    "model=linear_model.LinearRegression()\n",
    "model.fit(features,target)\n",
    "coef=model.coef_\n",
    "coef"
   ]
  },
  {
   "cell_type": "markdown",
   "metadata": {},
   "source": [
    "# Performing PCA on standardized data"
   ]
  },
  {
   "cell_type": "code",
   "execution_count": 31,
   "metadata": {},
   "outputs": [],
   "source": [
    "from sklearn.preprocessing import StandardScaler\n",
    "scaler = StandardScaler()\n",
    "features_scaled = scaler.fit_transform(features)"
   ]
  },
  {
   "cell_type": "code",
   "execution_count": 32,
   "metadata": {},
   "outputs": [
    {
     "data": {
      "text/plain": [
       "PCA(copy=True, iterated_power='auto', n_components=None, random_state=None,\n",
       "    svd_solver='auto', tol=0.0, whiten=False)"
      ]
     },
     "execution_count": 32,
     "metadata": {},
     "output_type": "execute_result"
    }
   ],
   "source": [
    "from sklearn.decomposition import PCA\n",
    "pca = PCA()\n",
    "pca.fit(features_scaled)"
   ]
  },
  {
   "cell_type": "code",
   "execution_count": 33,
   "metadata": {},
   "outputs": [
    {
     "data": {
      "text/plain": [
       "([<matplotlib.axis.XTick at 0x2167e45a7c8>,\n",
       "  <matplotlib.axis.XTick at 0x2167eb1ff08>,\n",
       "  <matplotlib.axis.XTick at 0x2167eb1fac8>],\n",
       " <a list of 3 Text xticklabel objects>)"
      ]
     },
     "execution_count": 33,
     "metadata": {},
     "output_type": "execute_result"
    },
    {
     "data": {
      "image/png": "[encoded data removed]",
      "text/plain": [
       "<Figure size 432x288 with 1 Axes>"
      ]
     },
     "metadata": {
      "needs_background": "light"
     },
     "output_type": "display_data"
    }
   ],
   "source": [
    "# Plot the proportion of variance explained on the y-axis of the bar plot\n",
    "import matplotlib.pyplot as plt\n",
    "plt.bar(range(1, pca.n_components_ + 1),  pca.explained_variance_ratio_)\n",
    "plt.xlabel('Principal component #')\n",
    "plt.ylabel('Proportion of variance explained')\n",
    "plt.xticks([1, 2, 3])"
   ]
  },
  {
   "cell_type": "code",
   "execution_count": 34,
   "metadata": {},
   "outputs": [
    {
     "name": "stdout",
     "output_type": "stream",
     "text": [
      "The cumulative variance of the first two principal components is 0.7947\n"
     ]
    }
   ],
   "source": [
    "# Compute the cumulative proportion of variance explained by the first two principal components\n",
    "two_first_comp_var_exp = pca.explained_variance_ratio_.cumsum()[1]\n",
    "print(\"The cumulative variance of the first two principal components is {}\".format(\n",
    "    round(two_first_comp_var_exp, 5)))"
   ]
  },
  {
   "cell_type": "markdown",
   "metadata": {},
   "source": [
    "# Visualizing the first two principal components"
   ]
  },
  {
   "cell_type": "code",
   "execution_count": 36,
   "metadata": {},
   "outputs": [
    {
     "data": {
      "text/plain": [
       "<matplotlib.collections.PathCollection at 0x2167fbe0c48>"
      ]
     },
     "execution_count": 36,
     "metadata": {},
     "output_type": "execute_result"
    },
    {
     "data": {
      "image/png": "[encoded data removed]",
      "text/plain": [
       "<Figure size 432x288 with 1 Axes>"
      ]
     },
     "metadata": {
      "needs_background": "light"
     },
     "output_type": "display_data"
    }
   ],
   "source": [
    "pca = PCA(n_components=2)\n",
    "p_comps = pca.fit_transform(features_scaled)\n",
    "\n",
    "#the first and second component to use for the scatter plot\n",
    "pca_comp1 = p_comps[:,0]\n",
    "pca_comp2 = p_comps[:,1]\n",
    "\n",
    "#first two principal components in a scatter plot\n",
    "plt.scatter(pca_comp1,pca_comp2)"
   ]
  },
  {
   "cell_type": "markdown",
   "metadata": {},
   "source": [
    "# Finding clusters of similar states in the data"
   ]
  },
  {
   "cell_type": "code",
   "execution_count": 38,
   "metadata": {},
   "outputs": [
    {
     "data": {
      "text/plain": [
       "[<matplotlib.lines.Line2D at 0x2167fe47ec8>]"
      ]
     },
     "execution_count": 38,
     "metadata": {},
     "output_type": "execute_result"
    },
    {
     "data": {
      "image/png": "[encoded data removed]",
      "text/plain": [
       "<Figure size 432x288 with 1 Axes>"
      ]
     },
     "metadata": {
      "needs_background": "light"
     },
     "output_type": "display_data"
    }
   ],
   "source": [
    "from sklearn.cluster import KMeans\n",
    "\n",
    "# A loop will be used to plot the explanatory power for up to 10 KMeans clusters\n",
    "ks = range(1, 10)\n",
    "inertias = []\n",
    "for k in ks:\n",
    "    # Initialize the KMeans object using the current number of clusters (k)\n",
    "    km = KMeans(n_clusters=k, random_state=8)\n",
    "    # Fit the scaled features to the KMeans object\n",
    "    km.fit(features_scaled)\n",
    "    # Append the inertia for `km` to the list of inertias\n",
    "    inertias.append(km.inertia_)\n",
    "    \n",
    "# Plot the results in a line plot\n",
    "plt.plot(ks, inertias, marker='o')"
   ]
  },
  {
   "cell_type": "markdown",
   "metadata": {},
   "source": [
    "# KMeans to visualize clusters in the PCA scatter plot"
   ]
  },
  {
   "cell_type": "code",
   "execution_count": 43,
   "metadata": {},
   "outputs": [
    {
     "data": {
      "text/plain": [
       "<matplotlib.collections.PathCollection at 0x216004a8c88>"
      ]
     },
     "execution_count": 43,
     "metadata": {},
     "output_type": "execute_result"
    },
    {
     "data": {
      "image/png": "[encoded data removed]",
      "text/plain": [
       "<Figure size 432x288 with 1 Axes>"
      ]
     },
     "metadata": {
      "needs_background": "light"
     },
     "output_type": "display_data"
    }
   ],
   "source": [
    "# Creating a KMeans object with 3 clusters\n",
    "km = KMeans(n_clusters=3, random_state=24)\n",
    "\n",
    "# Fitting the data to the `km` object\n",
    "p_comps = km.fit_transform(features_scaled)\n",
    "\n",
    "# Creating a scatter plot of the first two principal components\n",
    "# and coloring it according to the KMeans cluster assignment \n",
    "plt.scatter(p_comps[:,0], p_comps[:,1], c=km.labels_)"
   ]
  },
  {
   "cell_type": "markdown",
   "metadata": {},
   "source": [
    "# Visualizing the feature differences between the clusters "
   ]
  },
  {
   "cell_type": "code",
   "execution_count": 47,
   "metadata": {},
   "outputs": [
    {
     "data": {
      "text/plain": [
       "<matplotlib.axes._subplots.AxesSubplot at 0x216005fa708>"
      ]
     },
     "execution_count": 47,
     "metadata": {},
     "output_type": "execute_result"
    },
    {
     "data": {
      "image/png": "[encoded data removed]",
      "text/plain": [
       "<Figure size 432x288 with 1 Axes>"
      ]
     },
     "metadata": {
      "needs_background": "light"
     },
     "output_type": "display_data"
    }
   ],
   "source": [
    "# Creating a new column with the labels from the KMeans clustering\n",
    "accident['cluster'] = km.labels_\n",
    "\n",
    "# Reshape the DataFrame to the long format\n",
    "accident1 = pd.melt(accident, id_vars=\"cluster\", var_name=\"measurement\", value_name=\"percent\", value_vars=features)\n",
    "\n",
    "# Create a violin plot splitting and coloring the results according to the km-clusters\n",
    "sns.violinplot(x=accident1[\"percent\"], y=accident1[\"measurement\"], hue=accident1[\"cluster\"])"
   ]
  },
  {
   "cell_type": "markdown",
   "metadata": {},
   "source": [
    "# Computing the number of accidents within each cluster"
   ]
  },
  {
   "cell_type": "code",
   "execution_count": 52,
   "metadata": {},
   "outputs": [
    {
     "data": {
      "text/plain": [
       "<matplotlib.axes._subplots.AxesSubplot at 0x21600787388>"
      ]
     },
     "execution_count": 52,
     "metadata": {},
     "output_type": "execute_result"
    },
    {
     "data": {
      "image/png": "[encoded data removed]",
      "text/plain": [
       "<Figure size 432x288 with 1 Axes>"
      ]
     },
     "metadata": {
      "needs_background": "light"
     },
     "output_type": "display_data"
    }
   ],
   "source": [
    "# Reading the new dataset\n",
    "miles_driven = pd.read_csv('miles-driven.csv', sep='|')\n",
    "\n",
    "# Merge the `car_acc` DataFrame with the `miles_driven` DataFrame\n",
    "car_acc_miles = pd.merge(accident, miles_driven, on=\"state\")\n",
    "\n",
    "# Create a new column for the number of drivers involved in fatal accidents\n",
    "car_acc_miles['num_drvr_fatl_col'] = car_acc_miles['drvr_fatl_col_bmiles']*car_acc_miles[\"million_miles_annually\"]/1000\n",
    "\n",
    "# Create a barplot of the total number of accidents per cluster\n",
    "sns.barplot(x=car_acc_miles[\"cluster\"], y=car_acc_miles[\"num_drvr_fatl_col\"], data=car_acc_miles, estimator=sum, ci=None)"
   ]
  },
  {
   "cell_type": "code",
   "execution_count": 53,
   "metadata": {},
   "outputs": [
    {
     "data": {
      "text/html": [
       "<div>\n",
       "<style scoped>\n",
       "    .dataframe tbody tr th:only-of-type {\n",
       "        vertical-align: middle;\n",
       "    }\n",
       "\n",
       "    .dataframe tbody tr th {\n",
       "        vertical-align: top;\n",
       "    }\n",
       "\n",
       "    .dataframe thead th {\n",
       "        text-align: right;\n",
       "    }\n",
       "</style>\n",
       "<table border=\"1\" class=\"dataframe\">\n",
       "  <thead>\n",
       "    <tr style=\"text-align: right;\">\n",
       "      <th></th>\n",
       "      <th>count</th>\n",
       "      <th>mean</th>\n",
       "      <th>sum</th>\n",
       "    </tr>\n",
       "    <tr>\n",
       "      <th>cluster</th>\n",
       "      <th></th>\n",
       "      <th></th>\n",
       "      <th></th>\n",
       "    </tr>\n",
       "  </thead>\n",
       "  <tbody>\n",
       "    <tr>\n",
       "      <th>0</th>\n",
       "      <td>17</td>\n",
       "      <td>872.132759</td>\n",
       "      <td>14826.2569</td>\n",
       "    </tr>\n",
       "    <tr>\n",
       "      <th>1</th>\n",
       "      <td>12</td>\n",
       "      <td>920.385367</td>\n",
       "      <td>11044.6244</td>\n",
       "    </tr>\n",
       "    <tr>\n",
       "      <th>2</th>\n",
       "      <td>22</td>\n",
       "      <td>898.378595</td>\n",
       "      <td>19764.3291</td>\n",
       "    </tr>\n",
       "  </tbody>\n",
       "</table>\n",
       "</div>"
      ],
      "text/plain": [
       "         count        mean         sum\n",
       "cluster                               \n",
       "0           17  872.132759  14826.2569\n",
       "1           12  920.385367  11044.6244\n",
       "2           22  898.378595  19764.3291"
      ]
     },
     "execution_count": 53,
     "metadata": {},
     "output_type": "execute_result"
    }
   ],
   "source": [
    "# Calculate the number of states in each cluster and their 'num_drvr_fatl_col' mean and sum.\n",
    "count_mean_sum = car_acc_miles.groupby(\"cluster\")[\"num_drvr_fatl_col\"].agg([\"count\", \"mean\", \"sum\"])\n",
    "count_mean_sum"
   ]
  },
  {
   "cell_type": "markdown",
   "metadata": {},
   "source": [
    "# Making a decision when there is no clear right choice"
   ]
  },
  {
   "cell_type": "code",
   "execution_count": 54,
   "metadata": {},
   "outputs": [],
   "source": [
    "Cluster_Number=2"
   ]
  },
  {
   "cell_type": "code",
   "execution_count": null,
   "metadata": {},
   "outputs": [],
   "source": []
  }
 ],
 "metadata": {
  "kernelspec": {
   "display_name": "Python 3",
   "language": "python",
   "name": "python3"
  },
  "language_info": {
   "codemirror_mode": {
    "name": "ipython",
    "version": 3
   },
   "file_extension": ".py",
   "mimetype": "text/x-python",
   "name": "python",
   "nbconvert_exporter": "python",
   "pygments_lexer": "ipython3",
   "version": "3.7.6"
  }
 },
 "nbformat": 4,
 "nbformat_minor": 4
}
